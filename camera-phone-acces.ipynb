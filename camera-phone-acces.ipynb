{
 "cells": [
  {
   "cell_type": "markdown",
   "metadata": {},
   "source": [
    "Use OpenCv to acces you mobile phone camera "
   ]
  },
  {
   "cell_type": "code",
   "execution_count": 1,
   "metadata": {},
   "outputs": [],
   "source": [
    "import cv2"
   ]
  },
  {
   "cell_type": "code",
   "execution_count": 3,
   "metadata": {},
   "outputs": [],
   "source": [
    "# Insert some images \n",
    "im1 = cv2.imread(\"data/spa/spa1_01MO.jpg\")\n",
    "cv2.imshow('Frame', im1)  # Opens a R-Studio window that crashes the python kernel.\n",
    "cv2.waitKey()\n",
    "cv2.destroyAllWindows()"
   ]
  },
  {
   "cell_type": "code",
   "execution_count": 3,
   "metadata": {},
   "outputs": [],
   "source": [
    "# Capture the image from the mobile phone \n",
    "# IP: http://10.10.216.32:8080 \n",
    "IP_adress = \"http://10.10.216.32:8080/video\" # video is to acces the video\n",
    "\n",
    "cap = cv2.VideoCapture(IP_adress)"
   ]
  },
  {
   "cell_type": "code",
   "execution_count": 29,
   "metadata": {},
   "outputs": [],
   "source": [
    "while True:\n",
    "    ret, frame = cap.read()\n",
    "\n",
    "    resize = cv2.resize(frame, (1920//2, 1080//2))\n",
    "    cv2.imshow(f'Frame {frame.shape}', resize) # Title, np.array\n",
    "\n",
    "    key =cv2.waitKey(1) # runs until a key is pressed\n",
    "    # create a break point with 1 \n",
    "    if key == ord('q'):  # ord: Transform the character to unicode \n",
    "        break\n",
    "    \n",
    "cap.release() # release video capture object \n",
    "cv2.destroyAllWindows()"
   ]
  },
  {
   "cell_type": "code",
   "execution_count": 31,
   "metadata": {},
   "outputs": [
    {
     "data": {
      "text/plain": [
       "'4.5.5'"
      ]
     },
     "execution_count": 31,
     "metadata": {},
     "output_type": "execute_result"
    }
   ],
   "source": [
    "cv2.__version__"
   ]
  }
 ],
 "metadata": {
  "kernelspec": {
   "display_name": "Python 3.8.12 ('base')",
   "language": "python",
   "name": "python3"
  },
  "language_info": {
   "codemirror_mode": {
    "name": "ipython",
    "version": 3
   },
   "file_extension": ".py",
   "mimetype": "text/x-python",
   "name": "python",
   "nbconvert_exporter": "python",
   "pygments_lexer": "ipython3",
   "version": "3.8.12"
  },
  "orig_nbformat": 4,
  "vscode": {
   "interpreter": {
    "hash": "e52dddd8ca2ba95afe67578a96296e9b17628fddb050e9ee950fdfaca96878c3"
   }
  }
 },
 "nbformat": 4,
 "nbformat_minor": 2
}
