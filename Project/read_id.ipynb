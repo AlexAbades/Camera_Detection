{
 "cells": [
  {
   "cell_type": "code",
   "execution_count": 1,
   "metadata": {},
   "outputs": [],
   "source": [
    "#import api Google Cloud Vision\n",
    "from google.cloud import vision\n",
    "#to acces funcionalities of SO \n",
    "#and authenticate with Google api\n",
    "import os\n",
    "# Use regular expresion\n",
    "import re"
   ]
  },
  {
   "cell_type": "code",
   "execution_count": 4,
   "metadata": {},
   "outputs": [],
   "source": [
    "os.environ['GOOGLE_APPLICATION_CREDENTIALS'] = '/content/vision_key.json'"
   ]
  },
  {
   "cell_type": "code",
   "execution_count": 5,
   "metadata": {},
   "outputs": [
    {
     "ename": "DefaultCredentialsError",
     "evalue": "File /content/vision_key.json was not found.",
     "output_type": "error",
     "traceback": [
      "\u001b[1;31m---------------------------------------------------------------------------\u001b[0m",
      "\u001b[1;31mDefaultCredentialsError\u001b[0m                   Traceback (most recent call last)",
      "\u001b[1;32mc:\\Users\\G531\\Documents\\8 - Github\\Project_Compare_Price\\Project\\read_id.ipynb Cell 3\u001b[0m in \u001b[0;36m<cell line: 1>\u001b[1;34m()\u001b[0m\n\u001b[1;32m----> <a href='vscode-notebook-cell:/c%3A/Users/G531/Documents/8%20-%20Github/Project_Compare_Price/Project/read_id.ipynb#W2sZmlsZQ%3D%3D?line=0'>1</a>\u001b[0m vision_client \u001b[39m=\u001b[39m vision\u001b[39m.\u001b[39;49mImageAnnotatorClient()\n\u001b[0;32m      <a href='vscode-notebook-cell:/c%3A/Users/G531/Documents/8%20-%20Github/Project_Compare_Price/Project/read_id.ipynb#W2sZmlsZQ%3D%3D?line=1'>2</a>\u001b[0m image \u001b[39m=\u001b[39m vision\u001b[39m.\u001b[39mImage()\n",
      "File \u001b[1;32mc:\\Users\\G531\\anaconda3\\lib\\site-packages\\google\\cloud\\vision_v1\\services\\image_annotator\\client.py:447\u001b[0m, in \u001b[0;36mImageAnnotatorClient.__init__\u001b[1;34m(self, credentials, transport, client_options, client_info)\u001b[0m\n\u001b[0;32m    442\u001b[0m     credentials \u001b[39m=\u001b[39m google\u001b[39m.\u001b[39mauth\u001b[39m.\u001b[39m_default\u001b[39m.\u001b[39mget_api_key_credentials(\n\u001b[0;32m    443\u001b[0m         api_key_value\n\u001b[0;32m    444\u001b[0m     )\n\u001b[0;32m    446\u001b[0m Transport \u001b[39m=\u001b[39m \u001b[39mtype\u001b[39m(\u001b[39mself\u001b[39m)\u001b[39m.\u001b[39mget_transport_class(transport)\n\u001b[1;32m--> 447\u001b[0m \u001b[39mself\u001b[39m\u001b[39m.\u001b[39m_transport \u001b[39m=\u001b[39m Transport(\n\u001b[0;32m    448\u001b[0m     credentials\u001b[39m=\u001b[39;49mcredentials,\n\u001b[0;32m    449\u001b[0m     credentials_file\u001b[39m=\u001b[39;49mclient_options\u001b[39m.\u001b[39;49mcredentials_file,\n\u001b[0;32m    450\u001b[0m     host\u001b[39m=\u001b[39;49mapi_endpoint,\n\u001b[0;32m    451\u001b[0m     scopes\u001b[39m=\u001b[39;49mclient_options\u001b[39m.\u001b[39;49mscopes,\n\u001b[0;32m    452\u001b[0m     client_cert_source_for_mtls\u001b[39m=\u001b[39;49mclient_cert_source_func,\n\u001b[0;32m    453\u001b[0m     quota_project_id\u001b[39m=\u001b[39;49mclient_options\u001b[39m.\u001b[39;49mquota_project_id,\n\u001b[0;32m    454\u001b[0m     client_info\u001b[39m=\u001b[39;49mclient_info,\n\u001b[0;32m    455\u001b[0m     always_use_jwt_access\u001b[39m=\u001b[39;49m\u001b[39mTrue\u001b[39;49;00m,\n\u001b[0;32m    456\u001b[0m     api_audience\u001b[39m=\u001b[39;49mclient_options\u001b[39m.\u001b[39;49mapi_audience,\n\u001b[0;32m    457\u001b[0m )\n",
      "File \u001b[1;32mc:\\Users\\G531\\anaconda3\\lib\\site-packages\\google\\cloud\\vision_v1\\services\\image_annotator\\transports\\grpc.py:155\u001b[0m, in \u001b[0;36mImageAnnotatorGrpcTransport.__init__\u001b[1;34m(self, host, credentials, credentials_file, scopes, channel, api_mtls_endpoint, client_cert_source, ssl_channel_credentials, client_cert_source_for_mtls, quota_project_id, client_info, always_use_jwt_access, api_audience)\u001b[0m\n\u001b[0;32m    150\u001b[0m             \u001b[39mself\u001b[39m\u001b[39m.\u001b[39m_ssl_channel_credentials \u001b[39m=\u001b[39m grpc\u001b[39m.\u001b[39mssl_channel_credentials(\n\u001b[0;32m    151\u001b[0m                 certificate_chain\u001b[39m=\u001b[39mcert, private_key\u001b[39m=\u001b[39mkey\n\u001b[0;32m    152\u001b[0m             )\n\u001b[0;32m    154\u001b[0m \u001b[39m# The base transport sets the host, credentials and scopes\u001b[39;00m\n\u001b[1;32m--> 155\u001b[0m \u001b[39msuper\u001b[39;49m()\u001b[39m.\u001b[39;49m\u001b[39m__init__\u001b[39;49m(\n\u001b[0;32m    156\u001b[0m     host\u001b[39m=\u001b[39;49mhost,\n\u001b[0;32m    157\u001b[0m     credentials\u001b[39m=\u001b[39;49mcredentials,\n\u001b[0;32m    158\u001b[0m     credentials_file\u001b[39m=\u001b[39;49mcredentials_file,\n\u001b[0;32m    159\u001b[0m     scopes\u001b[39m=\u001b[39;49mscopes,\n\u001b[0;32m    160\u001b[0m     quota_project_id\u001b[39m=\u001b[39;49mquota_project_id,\n\u001b[0;32m    161\u001b[0m     client_info\u001b[39m=\u001b[39;49mclient_info,\n\u001b[0;32m    162\u001b[0m     always_use_jwt_access\u001b[39m=\u001b[39;49malways_use_jwt_access,\n\u001b[0;32m    163\u001b[0m     api_audience\u001b[39m=\u001b[39;49mapi_audience,\n\u001b[0;32m    164\u001b[0m )\n\u001b[0;32m    166\u001b[0m \u001b[39mif\u001b[39;00m \u001b[39mnot\u001b[39;00m \u001b[39mself\u001b[39m\u001b[39m.\u001b[39m_grpc_channel:\n\u001b[0;32m    167\u001b[0m     \u001b[39mself\u001b[39m\u001b[39m.\u001b[39m_grpc_channel \u001b[39m=\u001b[39m \u001b[39mtype\u001b[39m(\u001b[39mself\u001b[39m)\u001b[39m.\u001b[39mcreate_channel(\n\u001b[0;32m    168\u001b[0m         \u001b[39mself\u001b[39m\u001b[39m.\u001b[39m_host,\n\u001b[0;32m    169\u001b[0m         \u001b[39m# use the credentials which are saved\u001b[39;00m\n\u001b[1;32m   (...)\u001b[0m\n\u001b[0;32m    180\u001b[0m         ],\n\u001b[0;32m    181\u001b[0m     )\n",
      "File \u001b[1;32mc:\\Users\\G531\\anaconda3\\lib\\site-packages\\google\\cloud\\vision_v1\\services\\image_annotator\\transports\\base.py:107\u001b[0m, in \u001b[0;36mImageAnnotatorTransport.__init__\u001b[1;34m(self, host, credentials, credentials_file, scopes, quota_project_id, client_info, always_use_jwt_access, api_audience, **kwargs)\u001b[0m\n\u001b[0;32m    103\u001b[0m     credentials, _ \u001b[39m=\u001b[39m google\u001b[39m.\u001b[39mauth\u001b[39m.\u001b[39mload_credentials_from_file(\n\u001b[0;32m    104\u001b[0m         credentials_file, \u001b[39m*\u001b[39m\u001b[39m*\u001b[39mscopes_kwargs, quota_project_id\u001b[39m=\u001b[39mquota_project_id\n\u001b[0;32m    105\u001b[0m     )\n\u001b[0;32m    106\u001b[0m \u001b[39melif\u001b[39;00m credentials \u001b[39mis\u001b[39;00m \u001b[39mNone\u001b[39;00m:\n\u001b[1;32m--> 107\u001b[0m     credentials, _ \u001b[39m=\u001b[39m google\u001b[39m.\u001b[39;49mauth\u001b[39m.\u001b[39;49mdefault(\n\u001b[0;32m    108\u001b[0m         \u001b[39m*\u001b[39;49m\u001b[39m*\u001b[39;49mscopes_kwargs, quota_project_id\u001b[39m=\u001b[39;49mquota_project_id\n\u001b[0;32m    109\u001b[0m     )\n\u001b[0;32m    110\u001b[0m     \u001b[39m# Don't apply audience if the credentials file passed from user.\u001b[39;00m\n\u001b[0;32m    111\u001b[0m     \u001b[39mif\u001b[39;00m \u001b[39mhasattr\u001b[39m(credentials, \u001b[39m\"\u001b[39m\u001b[39mwith_gdch_audience\u001b[39m\u001b[39m\"\u001b[39m):\n",
      "File \u001b[1;32mc:\\Users\\G531\\anaconda3\\lib\\site-packages\\google\\auth\\_default.py:546\u001b[0m, in \u001b[0;36mdefault\u001b[1;34m(scopes, request, quota_project_id, default_scopes)\u001b[0m\n\u001b[0;32m    534\u001b[0m checkers \u001b[39m=\u001b[39m (\n\u001b[0;32m    535\u001b[0m     \u001b[39m# Avoid passing scopes here to prevent passing scopes to user credentials.\u001b[39;00m\n\u001b[0;32m    536\u001b[0m     \u001b[39m# with_scopes_if_required() below will ensure scopes/default scopes are\u001b[39;00m\n\u001b[1;32m   (...)\u001b[0m\n\u001b[0;32m    542\u001b[0m     \u001b[39mlambda\u001b[39;00m: _get_gce_credentials(request),\n\u001b[0;32m    543\u001b[0m )\n\u001b[0;32m    545\u001b[0m \u001b[39mfor\u001b[39;00m checker \u001b[39min\u001b[39;00m checkers:\n\u001b[1;32m--> 546\u001b[0m     credentials, project_id \u001b[39m=\u001b[39m checker()\n\u001b[0;32m    547\u001b[0m     \u001b[39mif\u001b[39;00m credentials \u001b[39mis\u001b[39;00m \u001b[39mnot\u001b[39;00m \u001b[39mNone\u001b[39;00m:\n\u001b[0;32m    548\u001b[0m         credentials \u001b[39m=\u001b[39m with_scopes_if_required(\n\u001b[0;32m    549\u001b[0m             credentials, scopes, default_scopes\u001b[39m=\u001b[39mdefault_scopes\n\u001b[0;32m    550\u001b[0m         )\n",
      "File \u001b[1;32mc:\\Users\\G531\\anaconda3\\lib\\site-packages\\google\\auth\\_default.py:539\u001b[0m, in \u001b[0;36mdefault.<locals>.<lambda>\u001b[1;34m()\u001b[0m\n\u001b[0;32m    528\u001b[0m \u001b[39mfrom\u001b[39;00m \u001b[39mgoogle\u001b[39;00m\u001b[39m.\u001b[39;00m\u001b[39mauth\u001b[39;00m\u001b[39m.\u001b[39;00m\u001b[39mcredentials\u001b[39;00m \u001b[39mimport\u001b[39;00m CredentialsWithQuotaProject\n\u001b[0;32m    530\u001b[0m explicit_project_id \u001b[39m=\u001b[39m os\u001b[39m.\u001b[39menviron\u001b[39m.\u001b[39mget(\n\u001b[0;32m    531\u001b[0m     environment_vars\u001b[39m.\u001b[39mPROJECT, os\u001b[39m.\u001b[39menviron\u001b[39m.\u001b[39mget(environment_vars\u001b[39m.\u001b[39mLEGACY_PROJECT)\n\u001b[0;32m    532\u001b[0m )\n\u001b[0;32m    534\u001b[0m checkers \u001b[39m=\u001b[39m (\n\u001b[0;32m    535\u001b[0m     \u001b[39m# Avoid passing scopes here to prevent passing scopes to user credentials.\u001b[39;00m\n\u001b[0;32m    536\u001b[0m     \u001b[39m# with_scopes_if_required() below will ensure scopes/default scopes are\u001b[39;00m\n\u001b[0;32m    537\u001b[0m     \u001b[39m# safely set on the returned credentials since requires_scopes will\u001b[39;00m\n\u001b[0;32m    538\u001b[0m     \u001b[39m# guard against setting scopes on user credentials.\u001b[39;00m\n\u001b[1;32m--> 539\u001b[0m     \u001b[39mlambda\u001b[39;00m: _get_explicit_environ_credentials(quota_project_id\u001b[39m=\u001b[39;49mquota_project_id),\n\u001b[0;32m    540\u001b[0m     \u001b[39mlambda\u001b[39;00m: _get_gcloud_sdk_credentials(quota_project_id\u001b[39m=\u001b[39mquota_project_id),\n\u001b[0;32m    541\u001b[0m     _get_gae_credentials,\n\u001b[0;32m    542\u001b[0m     \u001b[39mlambda\u001b[39;00m: _get_gce_credentials(request),\n\u001b[0;32m    543\u001b[0m )\n\u001b[0;32m    545\u001b[0m \u001b[39mfor\u001b[39;00m checker \u001b[39min\u001b[39;00m checkers:\n\u001b[0;32m    546\u001b[0m     credentials, project_id \u001b[39m=\u001b[39m checker()\n",
      "File \u001b[1;32mc:\\Users\\G531\\anaconda3\\lib\\site-packages\\google\\auth\\_default.py:218\u001b[0m, in \u001b[0;36m_get_explicit_environ_credentials\u001b[1;34m(quota_project_id)\u001b[0m\n\u001b[0;32m    215\u001b[0m     \u001b[39mreturn\u001b[39;00m _get_gcloud_sdk_credentials(quota_project_id\u001b[39m=\u001b[39mquota_project_id)\n\u001b[0;32m    217\u001b[0m \u001b[39mif\u001b[39;00m explicit_file \u001b[39mis\u001b[39;00m \u001b[39mnot\u001b[39;00m \u001b[39mNone\u001b[39;00m:\n\u001b[1;32m--> 218\u001b[0m     credentials, project_id \u001b[39m=\u001b[39m load_credentials_from_file(\n\u001b[0;32m    219\u001b[0m         os\u001b[39m.\u001b[39;49menviron[environment_vars\u001b[39m.\u001b[39;49mCREDENTIALS], quota_project_id\u001b[39m=\u001b[39;49mquota_project_id\n\u001b[0;32m    220\u001b[0m     )\n\u001b[0;32m    222\u001b[0m     \u001b[39mreturn\u001b[39;00m credentials, project_id\n\u001b[0;32m    224\u001b[0m \u001b[39melse\u001b[39;00m:\n",
      "File \u001b[1;32mc:\\Users\\G531\\anaconda3\\lib\\site-packages\\google\\auth\\_default.py:117\u001b[0m, in \u001b[0;36mload_credentials_from_file\u001b[1;34m(filename, scopes, default_scopes, quota_project_id, request)\u001b[0m\n\u001b[0;32m     85\u001b[0m \u001b[39m\"\"\"Loads Google credentials from a file.\u001b[39;00m\n\u001b[0;32m     86\u001b[0m \n\u001b[0;32m     87\u001b[0m \u001b[39mThe credentials file must be a service account key, stored authorized\u001b[39;00m\n\u001b[1;32m   (...)\u001b[0m\n\u001b[0;32m    114\u001b[0m \u001b[39m        wrong format or is missing.\u001b[39;00m\n\u001b[0;32m    115\u001b[0m \u001b[39m\"\"\"\u001b[39;00m\n\u001b[0;32m    116\u001b[0m \u001b[39mif\u001b[39;00m \u001b[39mnot\u001b[39;00m os\u001b[39m.\u001b[39mpath\u001b[39m.\u001b[39mexists(filename):\n\u001b[1;32m--> 117\u001b[0m     \u001b[39mraise\u001b[39;00m exceptions\u001b[39m.\u001b[39mDefaultCredentialsError(\n\u001b[0;32m    118\u001b[0m         \u001b[39m\"\u001b[39m\u001b[39mFile \u001b[39m\u001b[39m{}\u001b[39;00m\u001b[39m was not found.\u001b[39m\u001b[39m\"\u001b[39m\u001b[39m.\u001b[39mformat(filename)\n\u001b[0;32m    119\u001b[0m     )\n\u001b[0;32m    121\u001b[0m \u001b[39mwith\u001b[39;00m io\u001b[39m.\u001b[39mopen(filename, \u001b[39m\"\u001b[39m\u001b[39mr\u001b[39m\u001b[39m\"\u001b[39m) \u001b[39mas\u001b[39;00m file_obj:\n\u001b[0;32m    122\u001b[0m     \u001b[39mtry\u001b[39;00m:\n",
      "\u001b[1;31mDefaultCredentialsError\u001b[0m: File /content/vision_key.json was not found."
     ]
    }
   ],
   "source": [
    "vision_client = vision.ImageAnnotatorClient()\n",
    "image = vision.Image()"
   ]
  },
  {
   "cell_type": "code",
   "execution_count": null,
   "metadata": {},
   "outputs": [],
   "source": [
    "IMAGE_URI = 'path-image-to-proccess'\n",
    "image.source.image_uri = IMAGE_URI"
   ]
  },
  {
   "cell_type": "code",
   "execution_count": null,
   "metadata": {},
   "outputs": [],
   "source": []
  },
  {
   "cell_type": "code",
   "execution_count": null,
   "metadata": {},
   "outputs": [],
   "source": []
  },
  {
   "cell_type": "code",
   "execution_count": null,
   "metadata": {},
   "outputs": [],
   "source": []
  }
 ],
 "metadata": {
  "kernelspec": {
   "display_name": "Python 3.8.12 ('base')",
   "language": "python",
   "name": "python3"
  },
  "language_info": {
   "codemirror_mode": {
    "name": "ipython",
    "version": 3
   },
   "file_extension": ".py",
   "mimetype": "text/x-python",
   "name": "python",
   "nbconvert_exporter": "python",
   "pygments_lexer": "ipython3",
   "version": "3.8.12"
  },
  "orig_nbformat": 4,
  "vscode": {
   "interpreter": {
    "hash": "e52dddd8ca2ba95afe67578a96296e9b17628fddb050e9ee950fdfaca96878c3"
   }
  }
 },
 "nbformat": 4,
 "nbformat_minor": 2
}
