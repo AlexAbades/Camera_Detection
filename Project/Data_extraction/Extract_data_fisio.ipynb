{
 "cells": [
  {
   "cell_type": "code",
   "execution_count": 1,
   "metadata": {},
   "outputs": [],
   "source": [
    "import requests\n",
    "import xmltojson\n",
    "import pandas as pd\n",
    "import io\n",
    "import csv\n",
    "import re\n",
    "from tqdm import tqdm\n",
    "from bs4 import BeautifulSoup\n",
    "import json "
   ]
  },
  {
   "cell_type": "code",
   "execution_count": 2,
   "metadata": {},
   "outputs": [],
   "source": [
    "n = 10\n",
    "page_URL = 'https://www.consejo-fisioterapia.org/vu_colegiados/pag_5/descargar.html'\n",
    "main_URL = 'https://www.consejo-fisioterapia.org/vu_colegiados.html'\n"
   ]
  },
  {
   "cell_type": "code",
   "execution_count": 3,
   "metadata": {},
   "outputs": [
    {
     "data": {
      "text/plain": [
       "'text/html; charset=UTF-8'"
      ]
     },
     "execution_count": 3,
     "metadata": {},
     "output_type": "execute_result"
    }
   ],
   "source": [
    "\n",
    "page = requests.get(main_URL)\n",
    "page.headers['Content-Type']"
   ]
  },
  {
   "cell_type": "code",
   "execution_count": 4,
   "metadata": {},
   "outputs": [],
   "source": [
    "# parse to beatiful\n",
    "soup = BeautifulSoup(page.content, \"html.parser\")\n",
    "# Find where the number of pages are storted\n"
   ]
  },
  {
   "cell_type": "code",
   "execution_count": 5,
   "metadata": {},
   "outputs": [],
   "source": [
    "\n",
    "results = soup.find(id=\"contenido\")\n",
    "# Search for the specific class that stores the number of pages \n",
    "\n"
   ]
  },
  {
   "cell_type": "code",
   "execution_count": 6,
   "metadata": {},
   "outputs": [
    {
     "data": {
      "text/plain": [
       "[<ul class=\"pagination\">\n",
       " <!--\n",
       " \t\t\t\t\t<li>\n",
       " \t\t\t\t\t\t<a href=\"#\" title=\"Anterior\" aria-label=\"Anterior\">\n",
       " \t\t\t\t\t\t\t<span aria-hidden=\"true\">&laquo;</span>\n",
       " \t\t\t\t\t\t</a>\n",
       " \t\t\t\t\t</li>\n",
       " \t\t\t\t\t-->\n",
       " <li></li>\n",
       " <li></li>\n",
       " <li class=\"active\"><span class=\"active\">1</span></li>\n",
       " <li> <a href=\"https://www.consejo-fisioterapia.org/vu_colegiados/pag_2.html\">2</a> <a href=\"https://www.consejo-fisioterapia.org/vu_colegiados/pag_3.html\">3</a> <a href=\"https://www.consejo-fisioterapia.org/vu_colegiados/pag_4.html\">4</a></li>\n",
       " <li> <a>...</a> <a href=\"https://www.consejo-fisioterapia.org/vu_colegiados/pag_1961.html\">1961</a></li>\n",
       " <!--\n",
       " \t\t\t\t\t<li>\n",
       " \t\t\t\t\t\t<a href=\"#\" title=\"Siguiente\" aria-label=\"Siguiente\">\n",
       " \t\t\t\t\t\t\t<span aria-hidden=\"true\">&raquo;</span>\n",
       " \t\t\t\t\t\t</a>\n",
       " \t\t\t\t\t</li>\n",
       " \t\t\t\t\t-->\n",
       " </ul>]"
      ]
     },
     "execution_count": 6,
     "metadata": {},
     "output_type": "execute_result"
    }
   ],
   "source": [
    "job_elements = results.find_all(\"ul\", class_=\"pagination\")\n",
    "# Iterate through elements to get the links (even if it's just one element)\n",
    "job_elements"
   ]
  },
  {
   "cell_type": "code",
   "execution_count": 7,
   "metadata": {},
   "outputs": [
    {
     "data": {
      "text/plain": [
       "[<a href=\"https://www.consejo-fisioterapia.org/vu_colegiados/pag_2.html\">2</a>,\n",
       " <a href=\"https://www.consejo-fisioterapia.org/vu_colegiados/pag_3.html\">3</a>,\n",
       " <a href=\"https://www.consejo-fisioterapia.org/vu_colegiados/pag_4.html\">4</a>,\n",
       " <a>...</a>,\n",
       " <a href=\"https://www.consejo-fisioterapia.org/vu_colegiados/pag_1961.html\">1961</a>]"
      ]
     },
     "execution_count": 7,
     "metadata": {},
     "output_type": "execute_result"
    }
   ],
   "source": [
    "\n",
    "for element in job_elements:\n",
    "    # -- snip --\n",
    "    links = element.find_all(\"a\")\n",
    "links"
   ]
  },
  {
   "cell_type": "code",
   "execution_count": 8,
   "metadata": {},
   "outputs": [
    {
     "data": {
      "text/plain": [
       "<a href=\"https://www.consejo-fisioterapia.org/vu_colegiados/pag_1961.html\">1961</a>"
      ]
     },
     "execution_count": 8,
     "metadata": {},
     "output_type": "execute_result"
    }
   ],
   "source": [
    "links[-1]"
   ]
  },
  {
   "cell_type": "code",
   "execution_count": 9,
   "metadata": {},
   "outputs": [
    {
     "data": {
      "text/plain": [
       "1961"
      ]
     },
     "execution_count": 9,
     "metadata": {},
     "output_type": "execute_result"
    }
   ],
   "source": [
    "# get the last page reference \n",
    "last_page = int(links[-1].text)\n",
    "last_page"
   ]
  },
  {
   "cell_type": "code",
   "execution_count": 9,
   "metadata": {},
   "outputs": [
    {
     "name": "stdout",
     "output_type": "stream",
     "text": [
      "Request succesfull, proceeding to extract the number of pages...\n",
      "Last page found: 1961\n"
     ]
    }
   ],
   "source": [
    "main_URL = 'https://www.consejo-fisioterapia.org/vu_colegiados.html'\n",
    "# Define the URL that has the information of one specific page. \n",
    "page_URL = 'https://www.consejologopedas.com/censo_de_colegiados/pag_1/descargar.html'\n",
    "# Make a request to the page \n",
    "response = requests.get(main_URL)\n",
    "# Check if request is satifactory \n",
    "if response:\n",
    "    print('Request succesfull, proceeding to extract the number of pages...')\n",
    "else:\n",
    "    print(f'Response not sucesfull. Error: {response}')\n",
    "# Parse to beatifulsoup so we can operate\n",
    "soup = BeautifulSoup(response.content, \"html.parser\")\n",
    "# Find in which section the pages are defined \n",
    "results = soup.find(id=\"contenido\")\n",
    "# Search for the specific class that stores the number of pages \n",
    "job_elements = results.find_all(\"ul\", class_=\"pagination\")\n",
    "        \n",
    "# Iterate through elements to get the links (even if it's just one element)\n",
    "for element in job_elements:\n",
    "    # -- snip --\n",
    "    links = element.find_all(\"a\")\n",
    "# get the last page reference \n",
    "last_page = int(links[-1].text)\n",
    "print(f'Last page found: {last_page}')\n"
   ]
  },
  {
   "cell_type": "code",
   "execution_count": 41,
   "metadata": {},
   "outputs": [
    {
     "name": "stderr",
     "output_type": "stream",
     "text": [
      "100%|██████████| 4/4 [00:06<00:00,  1.69s/it]\n"
     ]
    }
   ],
   "source": [
    "# Iterate through all the number of pages and download the script\n",
    "for i in tqdm(range(1,5)):\n",
    "    # Actualize the data \n",
    "    url_tmp = re.sub(r'\\d', str(i), page_URL)\n",
    "    # request the csv file\n",
    "    urlData = requests.get(url_tmp, timeout=10)\n",
    "    # Check if request it's Ok\n",
    "    if urlData:\n",
    "        # check if it's the first time and create the original dataframe\n",
    "        if i == 1:\n",
    "            # Transform the data into a dataframe and create main dataframe\n",
    "            df = pd.read_csv(io.StringIO(urlData.content.decode('ISO-8859-1')), delimiter=';')\n",
    "        else: \n",
    "            # Transform the data dataframe and create a temporary df\n",
    "            df_tmp = pd.read_csv(io.StringIO(urlData.content.decode('ISO-8859-1')), delimiter=';')\n",
    "            #  concatenate the dataframe\n",
    "            df = pd.concat(\n",
    "                            [df, df_tmp],\n",
    "                            axis=0,\n",
    "                            join=\"outer\",\n",
    "                            ignore_index=True,\n",
    "                            keys=None,\n",
    "                            levels=None,\n",
    "                            names=None,\n",
    "                            verify_integrity=False,\n",
    "                            copy=True,\n",
    "                        )\n",
    "    else:\n",
    "        print(f'An Error: {urlData} ocurred while requesting the information on tha mage URL: \\n{page_URL}')"
   ]
  },
  {
   "cell_type": "code",
   "execution_count": 42,
   "metadata": {},
   "outputs": [],
   "source": [
    "df.drop(columns=df.columns[-1], inplace=True)"
   ]
  },
  {
   "cell_type": "code",
   "execution_count": 44,
   "metadata": {},
   "outputs": [],
   "source": [
    "df1 = df.copy()"
   ]
  },
  {
   "cell_type": "code",
   "execution_count": 58,
   "metadata": {},
   "outputs": [
    {
     "data": {
      "text/html": [
       "<div>\n",
       "<style scoped>\n",
       "    .dataframe tbody tr th:only-of-type {\n",
       "        vertical-align: middle;\n",
       "    }\n",
       "\n",
       "    .dataframe tbody tr th {\n",
       "        vertical-align: top;\n",
       "    }\n",
       "\n",
       "    .dataframe thead th {\n",
       "        text-align: right;\n",
       "    }\n",
       "</style>\n",
       "<table border=\"1\" class=\"dataframe\">\n",
       "  <thead>\n",
       "    <tr style=\"text-align: right;\">\n",
       "      <th></th>\n",
       "      <th>COLEGIO</th>\n",
       "      <th>NUMERO COLEGIADO</th>\n",
       "      <th>NOMBRE</th>\n",
       "      <th>EJERCE</th>\n",
       "    </tr>\n",
       "  </thead>\n",
       "  <tbody>\n",
       "    <tr>\n",
       "      <th>0</th>\n",
       "      <td>Colegio Oficial de Logopedas de Andalucía</td>\n",
       "      <td>1</td>\n",
       "      <td>María del Carmen Martín Garrido</td>\n",
       "      <td>Ejerce</td>\n",
       "    </tr>\n",
       "    <tr>\n",
       "      <th>1</th>\n",
       "      <td>Colegio Profesional de Logopedas de Galicia</td>\n",
       "      <td>1</td>\n",
       "      <td>Ana Isabel. Vázquez Lojo</td>\n",
       "      <td>Ejerce</td>\n",
       "    </tr>\n",
       "    <tr>\n",
       "      <th>2</th>\n",
       "      <td>Colegio de Logopedas de las Islas Baleares</td>\n",
       "      <td>1</td>\n",
       "      <td>Miquela Maria Sastre Vidal</td>\n",
       "      <td>Ejerce</td>\n",
       "    </tr>\n",
       "    <tr>\n",
       "      <th>3</th>\n",
       "      <td>Colegio Profesional de Logopedas de la Comunid...</td>\n",
       "      <td>1</td>\n",
       "      <td>MARÍA CRISTINA MUNICIO VENTURA</td>\n",
       "      <td>Ejerce</td>\n",
       "    </tr>\n",
       "    <tr>\n",
       "      <th>4</th>\n",
       "      <td>Colegio Profesional de Logopedas de Extremadura</td>\n",
       "      <td>1</td>\n",
       "      <td>Arturo Domínguez Giralt</td>\n",
       "      <td>Ejerce</td>\n",
       "    </tr>\n",
       "    <tr>\n",
       "      <th>...</th>\n",
       "      <td>...</td>\n",
       "      <td>...</td>\n",
       "      <td>...</td>\n",
       "      <td>...</td>\n",
       "    </tr>\n",
       "    <tr>\n",
       "      <th>115</th>\n",
       "      <td>Colegio Profesional de Logopedas de la Comunid...</td>\n",
       "      <td>1031</td>\n",
       "      <td>MARTA MERCHÁN GUINALDO</td>\n",
       "      <td>Ejerce</td>\n",
       "    </tr>\n",
       "    <tr>\n",
       "      <th>116</th>\n",
       "      <td>Colegio Oficial de Logopedas de Andalucía</td>\n",
       "      <td>1032</td>\n",
       "      <td>Rosario Pérez Muñoz</td>\n",
       "      <td>Ejerce</td>\n",
       "    </tr>\n",
       "    <tr>\n",
       "      <th>117</th>\n",
       "      <td>Colegio Profesional de Logopedas de la Comunid...</td>\n",
       "      <td>1032</td>\n",
       "      <td>NURIA MORENO NUÑEZ</td>\n",
       "      <td>Ejerce</td>\n",
       "    </tr>\n",
       "    <tr>\n",
       "      <th>118</th>\n",
       "      <td>Colegio Oficial de Logopedas de Andalucía</td>\n",
       "      <td>1033</td>\n",
       "      <td>Paloma Rocío Miranda Ponce</td>\n",
       "      <td>No ejerce</td>\n",
       "    </tr>\n",
       "    <tr>\n",
       "      <th>119</th>\n",
       "      <td>Colegio Profesional de Logopedas de la Comunid...</td>\n",
       "      <td>1033</td>\n",
       "      <td>MARÍA TERESA SCHÜLLER MORENO</td>\n",
       "      <td>Ejerce</td>\n",
       "    </tr>\n",
       "  </tbody>\n",
       "</table>\n",
       "<p>120 rows × 4 columns</p>\n",
       "</div>"
      ],
      "text/plain": [
       "                                               COLEGIO  NUMERO COLEGIADO  \\\n",
       "0            Colegio Oficial de Logopedas de Andalucía                 1   \n",
       "1          Colegio Profesional de Logopedas de Galicia                 1   \n",
       "2           Colegio de Logopedas de las Islas Baleares                 1   \n",
       "3    Colegio Profesional de Logopedas de la Comunid...                 1   \n",
       "4      Colegio Profesional de Logopedas de Extremadura                 1   \n",
       "..                                                 ...               ...   \n",
       "115  Colegio Profesional de Logopedas de la Comunid...              1031   \n",
       "116          Colegio Oficial de Logopedas de Andalucía              1032   \n",
       "117  Colegio Profesional de Logopedas de la Comunid...              1032   \n",
       "118          Colegio Oficial de Logopedas de Andalucía              1033   \n",
       "119  Colegio Profesional de Logopedas de la Comunid...              1033   \n",
       "\n",
       "                              NOMBRE     EJERCE  \n",
       "0    María del Carmen Martín Garrido     Ejerce  \n",
       "1           Ana Isabel. Vázquez Lojo     Ejerce  \n",
       "2         Miquela Maria Sastre Vidal     Ejerce  \n",
       "3     MARÍA CRISTINA MUNICIO VENTURA     Ejerce  \n",
       "4            Arturo Domínguez Giralt     Ejerce  \n",
       "..                               ...        ...  \n",
       "115           MARTA MERCHÁN GUINALDO     Ejerce  \n",
       "116              Rosario Pérez Muñoz     Ejerce  \n",
       "117               NURIA MORENO NUÑEZ     Ejerce  \n",
       "118       Paloma Rocío Miranda Ponce  No ejerce  \n",
       "119     MARÍA TERESA SCHÜLLER MORENO     Ejerce  \n",
       "\n",
       "[120 rows x 4 columns]"
      ]
     },
     "execution_count": 58,
     "metadata": {},
     "output_type": "execute_result"
    }
   ],
   "source": [
    "df = df1.copy()\n",
    "df"
   ]
  },
  {
   "cell_type": "code",
   "execution_count": 60,
   "metadata": {},
   "outputs": [
    {
     "data": {
      "text/plain": [
       "('Ejerce', 'No ejerce')"
      ]
     },
     "execution_count": 60,
     "metadata": {},
     "output_type": "execute_result"
    }
   ],
   "source": [
    "label = df.EJERCE.unique()[0]\n",
    "label_2 = df.EJERCE.unique()[1]\n",
    "label, label_2\n"
   ]
  },
  {
   "cell_type": "code",
   "execution_count": 61,
   "metadata": {},
   "outputs": [
    {
     "data": {
      "text/html": [
       "<div>\n",
       "<style scoped>\n",
       "    .dataframe tbody tr th:only-of-type {\n",
       "        vertical-align: middle;\n",
       "    }\n",
       "\n",
       "    .dataframe tbody tr th {\n",
       "        vertical-align: top;\n",
       "    }\n",
       "\n",
       "    .dataframe thead th {\n",
       "        text-align: right;\n",
       "    }\n",
       "</style>\n",
       "<table border=\"1\" class=\"dataframe\">\n",
       "  <thead>\n",
       "    <tr style=\"text-align: right;\">\n",
       "      <th></th>\n",
       "      <th>COLEGIO</th>\n",
       "      <th>NUMERO COLEGIADO</th>\n",
       "      <th>NOMBRE</th>\n",
       "      <th>EJERCE</th>\n",
       "    </tr>\n",
       "  </thead>\n",
       "  <tbody>\n",
       "    <tr>\n",
       "      <th>0</th>\n",
       "      <td>Colegio Oficial de Logopedas de Andalucía</td>\n",
       "      <td>1</td>\n",
       "      <td>María del Carmen Martín Garrido</td>\n",
       "      <td>1</td>\n",
       "    </tr>\n",
       "    <tr>\n",
       "      <th>1</th>\n",
       "      <td>Colegio Profesional de Logopedas de Galicia</td>\n",
       "      <td>1</td>\n",
       "      <td>Ana Isabel. Vázquez Lojo</td>\n",
       "      <td>1</td>\n",
       "    </tr>\n",
       "    <tr>\n",
       "      <th>2</th>\n",
       "      <td>Colegio de Logopedas de las Islas Baleares</td>\n",
       "      <td>1</td>\n",
       "      <td>Miquela Maria Sastre Vidal</td>\n",
       "      <td>1</td>\n",
       "    </tr>\n",
       "    <tr>\n",
       "      <th>3</th>\n",
       "      <td>Colegio Profesional de Logopedas de la Comunid...</td>\n",
       "      <td>1</td>\n",
       "      <td>MARÍA CRISTINA MUNICIO VENTURA</td>\n",
       "      <td>1</td>\n",
       "    </tr>\n",
       "    <tr>\n",
       "      <th>4</th>\n",
       "      <td>Colegio Profesional de Logopedas de Extremadura</td>\n",
       "      <td>1</td>\n",
       "      <td>Arturo Domínguez Giralt</td>\n",
       "      <td>1</td>\n",
       "    </tr>\n",
       "    <tr>\n",
       "      <th>...</th>\n",
       "      <td>...</td>\n",
       "      <td>...</td>\n",
       "      <td>...</td>\n",
       "      <td>...</td>\n",
       "    </tr>\n",
       "    <tr>\n",
       "      <th>115</th>\n",
       "      <td>Colegio Profesional de Logopedas de la Comunid...</td>\n",
       "      <td>1031</td>\n",
       "      <td>MARTA MERCHÁN GUINALDO</td>\n",
       "      <td>1</td>\n",
       "    </tr>\n",
       "    <tr>\n",
       "      <th>116</th>\n",
       "      <td>Colegio Oficial de Logopedas de Andalucía</td>\n",
       "      <td>1032</td>\n",
       "      <td>Rosario Pérez Muñoz</td>\n",
       "      <td>1</td>\n",
       "    </tr>\n",
       "    <tr>\n",
       "      <th>117</th>\n",
       "      <td>Colegio Profesional de Logopedas de la Comunid...</td>\n",
       "      <td>1032</td>\n",
       "      <td>NURIA MORENO NUÑEZ</td>\n",
       "      <td>1</td>\n",
       "    </tr>\n",
       "    <tr>\n",
       "      <th>118</th>\n",
       "      <td>Colegio Oficial de Logopedas de Andalucía</td>\n",
       "      <td>1033</td>\n",
       "      <td>Paloma Rocío Miranda Ponce</td>\n",
       "      <td>0</td>\n",
       "    </tr>\n",
       "    <tr>\n",
       "      <th>119</th>\n",
       "      <td>Colegio Profesional de Logopedas de la Comunid...</td>\n",
       "      <td>1033</td>\n",
       "      <td>MARÍA TERESA SCHÜLLER MORENO</td>\n",
       "      <td>1</td>\n",
       "    </tr>\n",
       "  </tbody>\n",
       "</table>\n",
       "<p>120 rows × 4 columns</p>\n",
       "</div>"
      ],
      "text/plain": [
       "                                               COLEGIO  NUMERO COLEGIADO  \\\n",
       "0            Colegio Oficial de Logopedas de Andalucía                 1   \n",
       "1          Colegio Profesional de Logopedas de Galicia                 1   \n",
       "2           Colegio de Logopedas de las Islas Baleares                 1   \n",
       "3    Colegio Profesional de Logopedas de la Comunid...                 1   \n",
       "4      Colegio Profesional de Logopedas de Extremadura                 1   \n",
       "..                                                 ...               ...   \n",
       "115  Colegio Profesional de Logopedas de la Comunid...              1031   \n",
       "116          Colegio Oficial de Logopedas de Andalucía              1032   \n",
       "117  Colegio Profesional de Logopedas de la Comunid...              1032   \n",
       "118          Colegio Oficial de Logopedas de Andalucía              1033   \n",
       "119  Colegio Profesional de Logopedas de la Comunid...              1033   \n",
       "\n",
       "                              NOMBRE EJERCE  \n",
       "0    María del Carmen Martín Garrido      1  \n",
       "1           Ana Isabel. Vázquez Lojo      1  \n",
       "2         Miquela Maria Sastre Vidal      1  \n",
       "3     MARÍA CRISTINA MUNICIO VENTURA      1  \n",
       "4            Arturo Domínguez Giralt      1  \n",
       "..                               ...    ...  \n",
       "115           MARTA MERCHÁN GUINALDO      1  \n",
       "116              Rosario Pérez Muñoz      1  \n",
       "117               NURIA MORENO NUÑEZ      1  \n",
       "118       Paloma Rocío Miranda Ponce      0  \n",
       "119     MARÍA TERESA SCHÜLLER MORENO      1  \n",
       "\n",
       "[120 rows x 4 columns]"
      ]
     },
     "execution_count": 61,
     "metadata": {},
     "output_type": "execute_result"
    }
   ],
   "source": [
    "df.loc[df[\"EJERCE\"] == label, \"EJERCE\"] = 1\n",
    "df.loc[df[\"EJERCE\"] == label_2, \"EJERCE\"] = 0\n",
    "df"
   ]
  },
  {
   "cell_type": "code",
   "execution_count": 62,
   "metadata": {},
   "outputs": [
    {
     "name": "stdout",
     "output_type": "stream",
     "text": [
      "<class 'pandas.core.frame.DataFrame'>\n",
      "RangeIndex: 120 entries, 0 to 119\n",
      "Data columns (total 4 columns):\n",
      " #   Column            Non-Null Count  Dtype \n",
      "---  ------            --------------  ----- \n",
      " 0   COLEGIO           120 non-null    object\n",
      " 1   NUMERO COLEGIADO  120 non-null    int64 \n",
      " 2   NOMBRE            120 non-null    object\n",
      " 3   EJERCE            120 non-null    object\n",
      "dtypes: int64(1), object(3)\n",
      "memory usage: 30.1 KB\n"
     ]
    }
   ],
   "source": [
    "df.info(memory_usage='deep')"
   ]
  },
  {
   "cell_type": "code",
   "execution_count": 63,
   "metadata": {},
   "outputs": [
    {
     "name": "stdout",
     "output_type": "stream",
     "text": [
      "<class 'pandas.core.frame.DataFrame'>\n",
      "RangeIndex: 120 entries, 0 to 119\n",
      "Data columns (total 4 columns):\n",
      " #   Column            Non-Null Count  Dtype \n",
      "---  ------            --------------  ----- \n",
      " 0   COLEGIO           120 non-null    object\n",
      " 1   NUMERO COLEGIADO  120 non-null    int64 \n",
      " 2   NOMBRE            120 non-null    object\n",
      " 3   EJERCE            120 non-null    object\n",
      "dtypes: int64(1), object(3)\n",
      "memory usage: 33.4 KB\n"
     ]
    }
   ],
   "source": [
    "df1.info(memory_usage='deep')"
   ]
  },
  {
   "cell_type": "code",
   "execution_count": 67,
   "metadata": {},
   "outputs": [
    {
     "data": {
      "text/plain": [
       "array(['Colegio Oficial de Logopedas de Andalucía',\n",
       "       'Colegio Profesional de Logopedas de Galicia',\n",
       "       'Colegio de Logopedas de las Islas Baleares',\n",
       "       'Colegio Profesional de Logopedas de la Comunidad de Madrid',\n",
       "       'Colegio Profesional de Logopedas de Extremadura',\n",
       "       'Col·legi de Logopedes de Catalunya'], dtype=object)"
      ]
     },
     "execution_count": 67,
     "metadata": {},
     "output_type": "execute_result"
    }
   ],
   "source": [
    "df[df.columns[0]].unique()"
   ]
  },
  {
   "cell_type": "code",
   "execution_count": null,
   "metadata": {},
   "outputs": [],
   "source": []
  }
 ],
 "metadata": {
  "kernelspec": {
   "display_name": "Python 3.8.12 ('base')",
   "language": "python",
   "name": "python3"
  },
  "language_info": {
   "codemirror_mode": {
    "name": "ipython",
    "version": 3
   },
   "file_extension": ".py",
   "mimetype": "text/x-python",
   "name": "python",
   "nbconvert_exporter": "python",
   "pygments_lexer": "ipython3",
   "version": "3.8.12"
  },
  "orig_nbformat": 4,
  "vscode": {
   "interpreter": {
    "hash": "e52dddd8ca2ba95afe67578a96296e9b17628fddb050e9ee950fdfaca96878c3"
   }
  }
 },
 "nbformat": 4,
 "nbformat_minor": 2
}
